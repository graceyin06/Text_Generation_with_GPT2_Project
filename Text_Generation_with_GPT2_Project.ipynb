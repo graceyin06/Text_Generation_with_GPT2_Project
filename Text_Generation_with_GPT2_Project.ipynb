{
 "cells": [
  {
   "cell_type": "markdown",
   "metadata": {
    "colab": {
     "base_uri": "https://localhost:8080/",
     "height": 214,
     "referenced_widgets": [
      "5b5f2bba06b54d0eb2d14a2fc9e6301c",
      "c4607c7e16104e0089e9c4357ae19a82",
      "7bea256ca898498e8c6150809f323615",
      "b20ff706d3034d5186506de3ad8e3d13",
      "e955494a177748ffbf567d7aafbdc12e",
      "46ab0801eb0c48e6be2282eaec2c3839",
      "d6693524122e4c50b2e5e2ddff1414fd",
      "94863e3afc5b436f8f80d3e0baca4644",
      "6bf303cf03dd4710b394cb4d4bd94461",
      "b351478049694b3992e50365529f324f",
      "42e85bc721844589820f78c44d9be477",
      "895b674a041b4701b5f393174629e11e",
      "a44735ebb8724782b18bc82438726a69",
      "d0e5decb2f8641ba9a63a6ad66e48387",
      "d652ce76358c460d82775697ecd3b4d3",
      "4210e5c968fa4aa3aac0e5ec27e13ab8",
      "f378982a58394e4a90f063e39338b29f",
      "a29d3998eecd4dcd84f56b67cd30d532",
      "4825bd4fe9c240c483f0f7f02b4459bd",
      "fcc3eb2a16834055afdf804ffe6b1738",
      "cf60afb1ca2b416c958287bf59e0fb4e",
      "da9f4de3db444d8393d93c03a9daaa9c",
      "88095c6cf41e481ca529c606e3e84a1a",
      "42d67596f00c462d82f6c67401d706bc",
      "05c74360b33e4ae9990bb2086559168f",
      "94b7a52132244274b1c90aa2f9d26d09",
      "7e2253f18c1f492396d21c79e88abda6",
      "43964bd07f194dd898cdf34795da63b3",
      "3443b7bbfb6245cd9f7369d7545a68d8",
      "38d82090488540b7b3255abda6d61d5d",
      "00ff0f83ff2742d085ce9018a1c9d641",
      "34df91add83644d3a41f362886755403",
      "4644b42f232d45a2ab87fc8e013a745d",
      "ed20b4ea89a14e44b3474d77bbadc8c4",
      "f012793a8aac40a7b9ef562fdb440c6c",
      "cec366b7fb6d4462b769910ddf5c8e73",
      "bc83a9fdde564d659437805e723c4f31",
      "28f1dd92dd7549d0a8d4dbcec0bcb15d",
      "0f8a0432aa9e4d35ab0944cbb15f2a68",
      "58ea9bd534ac49b79708d2a0fe953e4d",
      "d6ba43fd8b1c4c55a37d5a8bd828d31f",
      "f47c85a882434213adc942b9627bdfc6",
      "1f0efd5af87b496b8a7d4d115897430e",
      "4a0772120b144208a7a3df24587cdff4"
     ]
    },
    "id": "IG-DUXt6scGb",
    "outputId": "ee58fd2f-3197-4b68-fab3-a30dfafb9dc9"
   },
   "source": [
    "## Fine-Tuning GPT-2 Model in PyTorch"
   ]
  },
  {
   "cell_type": "markdown",
   "metadata": {},
   "source": [
    "This project aims to demonstrate how to fine-tune a pre-trained GPT-2 model in PyTorch. It is also the project in the Udmey course **Introduction to Transformers for NLP with Python**.\n",
    "\n",
    "First, we downloaded all the pretrained model from the transformers libray"
   ]
  },
  {
   "cell_type": "code",
   "execution_count": 9,
   "metadata": {},
   "outputs": [
    {
     "name": "stderr",
     "output_type": "stream",
     "text": [
      "All PyTorch model weights were used when initializing TFGPT2LMHeadModel.\n",
      "\n",
      "All the weights of TFGPT2LMHeadModel were initialized from the PyTorch model.\n",
      "If your task is similar to the task the model of the checkpoint was trained on, you can already use TFGPT2LMHeadModel for predictions without further training.\n"
     ]
    }
   ],
   "source": [
    "from transformers import TFGPT2LMHeadModel, GPT2Tokenizer\n",
    "gpt2tokenizer = GPT2Tokenizer.from_pretrained(\"gpt2\")\n",
    "\n",
    "# add the EOS token as PAD token to avoid warnings\n",
    "gpt2 = TFGPT2LMHeadModel.from_pretrained(\"gpt2\", \n",
    "                                         pad_token_id=gpt2tokenizer.eos_token_id)"
   ]
  },
  {
   "cell_type": "markdown",
   "metadata": {},
   "source": [
    "### Greedy search algorithm"
   ]
  },
  {
   "cell_type": "markdown",
   "metadata": {},
   "source": [
    "We created texts using a greedy search algorithm. It is usually a good idea to fix the random seed to make sure the results are reproducable."
   ]
  },
  {
   "cell_type": "code",
   "execution_count": 11,
   "metadata": {},
   "outputs": [],
   "source": [
    "# settings\n",
    "\n",
    "#for reproducability\n",
    "SEED = 30\n",
    "tf.random.set_seed(SEED)\n",
    "\n",
    "#maximum number of words in output text\n",
    "MAX_LEN = 70"
   ]
  },
  {
   "cell_type": "code",
   "execution_count": 12,
   "metadata": {
    "colab": {
     "base_uri": "https://localhost:8080/"
    },
    "id": "lsQNYOXatMLB",
    "outputId": "1736d2c7-8510-4aff-fdb6-f04c11fab1dd"
   },
   "outputs": [
    {
     "name": "stdout",
     "output_type": "stream",
     "text": [
      "Output:\n",
      "--------------------------------------------------\n",
      "Pokemon is the first game in the series to feature a character that is a member of the team.\n",
      "\n",
      "The game's story is based on the manga series, and the characters are based on the characters from the anime.\n",
      "\n",
      "The game's\n"
     ]
    }
   ],
   "source": [
    "# encode context the generation is conditioned on\n",
    "input_ids = gpt2tokenizer.encode('Pokemon is the', return_tensors='tf')\n",
    "\n",
    "# generate text until the output length (which includes the context length) reaches 50\n",
    "greedy_output = gpt2.generate(input_ids, max_length=50)\n",
    "\n",
    "print(\"Output:\\n\" + 50 * '-')\n",
    "print(gpt2tokenizer.decode(greedy_output[0], skip_special_tokens=True))\n"
   ]
  },
  {
   "cell_type": "markdown",
   "metadata": {
    "id": "TP_-3sxLuGSS"
   },
   "source": [
    "A prompt was supplied for the model to complete. The model started in a promising manner but soon resorted to repeating the same output. The out for the text generation is indicative.There are a few various reasons for this.The models themselves may be retrained periodically by the Hugging face team and may evolve with the newer version. Beam search can be consicered as an alternative. At each step of generating a token, a set of top probability tokens are kept as part of the beam instead of just the highest- probability token. The sequence with the highest overall probability is returned at  the end of the generation. It is a time to generate text with beam search algorithm. "
   ]
  },
  {
   "cell_type": "markdown",
   "metadata": {},
   "source": [
    "### Beam search algorithm"
   ]
  },
  {
   "cell_type": "code",
   "execution_count": 13,
   "metadata": {
    "colab": {
     "base_uri": "https://localhost:8080/"
    },
    "id": "0anV9iEyvI5B",
    "outputId": "3280c012-6832-43da-b68d-e1bf27952870"
   },
   "outputs": [
    {
     "name": "stdout",
     "output_type": "stream",
     "text": [
      "Output:\n",
      "--------------------------------------------------\n",
      "Pokemon is the most popular video game in the world. It is the most popular video game in the world. It is the most popular video game in the world. It is the most popular video game in the world.\n"
     ]
    }
   ],
   "source": [
    "import tensorflow as tf\n",
    "tf.random.set_seed(42)  # for reproducible results\n",
    "# BEAM SEARCH\n",
    "# activate beam search and early_stopping\n",
    "beam_output = gpt2.generate(\n",
    "    input_ids, \n",
    "    max_length=51, \n",
    "    num_beams=20, \n",
    "    early_stopping=True\n",
    ")\n",
    "\n",
    "print(\"Output:\\n\" + 50 * '-')\n",
    "print(gpt2tokenizer.decode(beam_output[0], skip_special_tokens=True))"
   ]
  },
  {
   "cell_type": "markdown",
   "metadata": {
    "id": "jQGPIMcMvweI"
   },
   "source": [
    "Qualitatively, the first sentence makes a lot more sense than the one generated by the greedy search. The early_stopping patameter signals generation to stop when all beams reach the EOS token. Howeverm there is still much repetition going on. One parameter that can be used to control the repetition is by setting a limit on n-grams being repeated."
   ]
  },
  {
   "cell_type": "markdown",
   "metadata": {},
   "source": [
    "### Set no repeat n-gram size"
   ]
  },
  {
   "cell_type": "code",
   "execution_count": 16,
   "metadata": {
    "colab": {
     "base_uri": "https://localhost:8080/"
    },
    "id": "INrSBCYpwRL1",
    "outputId": "78dc8c49-7bb5-4346-b4dc-31aad75c9f17"
   },
   "outputs": [
    {
     "name": "stdout",
     "output_type": "stream",
     "text": [
      "Output:\n",
      "--------------------------------------------------\n",
      "Pokemon is the most popular video game in the world. It's also one of the most successful franchises in the history of the video game industry. It has sold more than 1 billion copies worldwide and has been downloaded more than 100 million times.\n",
      "\n",
      "\n"
     ]
    }
   ],
   "source": [
    "# set no_repeat_ngram_size to 3\n",
    "beam_output = gpt2.generate(\n",
    "    input_ids, \n",
    "    max_length=50, \n",
    "    num_beams=20, \n",
    "    no_repeat_ngram_size=3, \n",
    "    early_stopping=True\n",
    ")\n",
    "\n",
    "print(\"Output:\\n\" + 50 * '-')\n",
    "print(gpt2tokenizer.decode(beam_output[0], skip_special_tokens=True))"
   ]
  },
  {
   "cell_type": "markdown",
   "metadata": {
    "id": "VZbXJ1HlwsvQ"
   },
   "source": [
    "As can be seen from the above result, this had made a considerable differences in the quality of the generated text. The no_repeat_ngram_size parameter prevents the model from generationg any 3-grams or triplets of tokens more than onace. While this improves the quality of the text, using the n-gram constraint can have a significant impact on the quality of the generated text. If the generated text is about the White House, then these 3 words can only be used onace in the entire generated text. In such a case, using the n-gram constraint will be counter-productive.\n",
    "\n",
    "Beam search works well in  cases where the generated sequence is of a restricted length. As the length of the sequence increases, the number of beams to be maintained and computed increases signnificantly. Consequently, beam search works well in tasks like summarization and translation but performs poorly in open-ended text generation. Furthermore, beam search, by trying to maximize the cumulative probabiltiy, generated more predictable text. The text feels less natural. We will write some codes can be used to get a feel for the varibous beams being generated. Please ensure that the number of beams is greater than or equal to the number of sequences to be returned."
   ]
  },
  {
   "cell_type": "markdown",
   "metadata": {},
   "source": [
    "### Add temperature controlling parameter"
   ]
  },
  {
   "cell_type": "code",
   "execution_count": 20,
   "metadata": {
    "colab": {
     "base_uri": "https://localhost:8080/"
    },
    "id": "B44pElNFyGRu",
    "outputId": "f641febe-12ba-4e25-b52c-fc89a9d6ae4f"
   },
   "outputs": [
    {
     "name": "stdout",
     "output_type": "stream",
     "text": [
      "Output:\n",
      "--------------------------------------------------\n",
      "\n",
      "0: Pokemon is the most popular video game in the world. It's also one of the most successful franchises in the history of the video game industry. It has sold more than 1 billion copies worldwide and has been downloaded more than 100 million times.\n",
      "\n",
      "\n",
      "\n",
      "1: Pokemon is the most popular video game in the world. It's also one of the most successful franchises in the history of the video game industry. It has sold more than 1 billion copies worldwide and has been downloaded more than 2 billion times.\n",
      "\n",
      "\n",
      "\n",
      "2: Pokemon is the most popular video game in the world. It's also one of the most successful franchises in the history of the video game industry. It has sold more than 1 billion copies worldwide and has been downloaded more than 3 billion times.\n",
      "\n",
      "\n"
     ]
    }
   ],
   "source": [
    "# Returning multiple beams\n",
    "tf.random.set_seed(42)  # for reproducible results\n",
    "beam_outputs = gpt2.generate(\n",
    "    input_ids, \n",
    "    max_length=50, \n",
    "    num_beams=20, \n",
    "    no_repeat_ngram_size=3, \n",
    "    num_return_sequences=3,  \n",
    "    early_stopping=True,\n",
    "    temperature=0.7\n",
    ")\n",
    "\n",
    "print(\"Output:\\n\" + 50 * '-')\n",
    "for i, beam_output in enumerate(beam_outputs):\n",
    "  print(\"\\n{}: {}\".format(i, \n",
    "                        gpt2tokenizer.decode(beam_output, \n",
    "                                             skip_special_tokens=True)))"
   ]
  },
  {
   "cell_type": "markdown",
   "metadata": {
    "id": "kP9KSSGOy5Fn"
   },
   "source": [
    "There is another method for improving the coherence and creativity of the text being geenreated called Top-K sampling. This is the preferred methid in GPT-2 and plays an important role in the success of GPT-2 in story generation. "
   ]
  },
  {
   "cell_type": "markdown",
   "metadata": {},
   "source": [
    "### Top-K sampling"
   ]
  },
  {
   "cell_type": "code",
   "execution_count": 21,
   "metadata": {
    "colab": {
     "base_uri": "https://localhost:8080/"
    },
    "id": "8y2deDZXzKM9",
    "outputId": "6ae510d1-3700-4947-ed63-382b7aced1c2"
   },
   "outputs": [
    {
     "name": "stdout",
     "output_type": "stream",
     "text": [
      "Output:\n",
      "--------------------------------------------------\n",
      "Pokemon is the only Pokemon with all three stats and it is an awesome Pokemon because there is nothing to fear (yet, no less). In fact with the Pokemon from FireRed & Blue we see what a fun story this series and anime has made!\n"
     ]
    }
   ],
   "source": [
    "# Top-K sampling\n",
    "tf.random.set_seed(42)  # for reproducible results\n",
    "beam_output = gpt2.generate(\n",
    "    input_ids, \n",
    "    max_length=50, \n",
    "    do_sample=True, \n",
    "    top_k=25,\n",
    "    temperature=2.0\n",
    ")\n",
    "\n",
    "print(\"Output:\\n\" + 50 * '-')\n",
    "print(gpt2tokenizer.decode(beam_output[0], skip_special_tokens=True))"
   ]
  },
  {
   "cell_type": "markdown",
   "metadata": {
    "id": "_HulK_Bzz4QG"
   },
   "source": [
    "As can be seen from the above example, the model looks at the 25 top tokens out of the 50000+ tokens while generating text. Then it picks a random word from these and conitunes the generation. Choosing larger values will result in more surprising or creative text. Choosing lower values of K will result in more predictable text. "
   ]
  },
  {
   "cell_type": "markdown",
   "metadata": {},
   "source": [
    "#### Choosing lower values of K "
   ]
  },
  {
   "cell_type": "code",
   "execution_count": 23,
   "metadata": {
    "colab": {
     "base_uri": "https://localhost:8080/"
    },
    "id": "d2jmU7AQ0QbB",
    "outputId": "3d47c5ed-f2d9-4945-e40e-808c761bfff1"
   },
   "outputs": [
    {
     "name": "stdout",
     "output_type": "stream",
     "text": [
      "Output:\n",
      "--------------------------------------------------\n",
      "Pokemon is the only series in the series to use all-purpose, special characters and the game's own character. However, it also has one main difference: all characters in that episode's story are the same as in this particular episode.\n",
      "\n",
      "\n"
     ]
    }
   ],
   "source": [
    "#tf.random.set_seed(42)  # for reproducible results\n",
    "beam_output = gpt2.generate(\n",
    "    input_ids, \n",
    "    max_length=50, \n",
    "    do_sample=True, \n",
    "    top_k=15,\n",
    "    temperature=2.0\n",
    ")\n",
    "\n",
    "print(\"Output:\\n\" + 50 * '-')\n",
    "print(gpt2tokenizer.decode(beam_output[0], skip_special_tokens=True))"
   ]
  },
  {
   "cell_type": "markdown",
   "metadata": {},
   "source": [
    "#### higher k value"
   ]
  },
  {
   "cell_type": "code",
   "execution_count": 24,
   "metadata": {
    "colab": {
     "base_uri": "https://localhost:8080/"
    },
    "id": "MfDhloJr0gUZ",
    "outputId": "204585a1-d5a7-46cb-dcb7-ade25ada07ee"
   },
   "outputs": [
    {
     "name": "stdout",
     "output_type": "stream",
     "text": [
      "Output:\n",
      "--------------------------------------------------\n",
      "Pokemon is the one available\n",
      "No wonder now how hot will one, let alone six-thousand more people!\n",
      "Pokemon Snap is almost going on sale. It hit Japan today one offtnight, followed by Korean takoba hawgawa\n"
     ]
    }
   ],
   "source": [
    "beam_output = gpt2.generate(\n",
    "    input_ids, \n",
    "    max_length=50, \n",
    "    do_sample=True, \n",
    "    top_k=150,\n",
    "    temperature=2.0\n",
    ")\n",
    "\n",
    "print(\"Output:\\n\" + 50 * '-')\n",
    "print(gpt2tokenizer.decode(beam_output[0], skip_special_tokens=True))"
   ]
  },
  {
   "cell_type": "markdown",
   "metadata": {},
   "source": [
    "This seems like a step in the right direction. Can we do better than this?\n",
    "Top-P sampling (also known as nucleus sampling) is similar to Top-K, but instead of choosing the top K most likely words we can choose the smallest set of words hose total probability is larger than p and then the enture probability mass is shifted to the words in this set. "
   ]
  },
  {
   "cell_type": "markdown",
   "metadata": {},
   "source": [
    "### Top-p sampling"
   ]
  },
  {
   "cell_type": "code",
   "execution_count": 33,
   "metadata": {},
   "outputs": [
    {
     "name": "stdout",
     "output_type": "stream",
     "text": [
      "Output:\n",
      "--------------------------------------------------\n",
      "Pokemon is the main character of Star Fox 64.\n",
      "\n",
      "Star Fox Red from Tekken 7\n",
      "\n",
      "Hakumetoro Minoru\n",
      "\n",
      "Gen B Shoryuken Majin Vegeta\n",
      "\n",
      "Sakura Sixteen and Tenshi Space Jukenho\n",
      "\n",
      "Sega Genesis San Ace Queen\n",
      "\n",
      "Taito Infinite\n",
      "\n",
      "Asus\n"
     ]
    }
   ],
   "source": [
    "sample_output = gpt2.generate(\n",
    "                             input_ids, \n",
    "                             do_sample = True, \n",
    "                             max_length = MAX_LEN, \n",
    "                             top_p = 0.9, \n",
    "                             top_k = 0\n",
    ")\n",
    "\n",
    "print(\"Output:\\n\" + 50 * '-')\n",
    "print(gpt2tokenizer.decode(sample_output[0], skip_special_tokens=True))"
   ]
  },
  {
   "cell_type": "markdown",
   "metadata": {},
   "source": [
    "### Combine all approaches"
   ]
  },
  {
   "cell_type": "code",
   "execution_count": 35,
   "metadata": {},
   "outputs": [
    {
     "name": "stdout",
     "output_type": "stream",
     "text": [
      "Output:\n",
      "--------------------------------------------------\n",
      "\n",
      "0: Pokemon is the most important game in the franchise to date, with the original series of Star Wars having its very own, highly-anticipated sequel. And in the case of Star Wars: The Old Republic, it's also the franchise that has been so beloved by fans in the world of gaming and that will probably become the franchise's greatest story to date.\n",
      "\n",
      "But if you can't believe how many people love that game, how is Star Wars: The Old Republic the most influential game of all time? The first game, in a nutshell, was the beginning of the game's life and the second game, after that, is the foundation of what makes Star Wars the best-selling game of\n",
      "\n",
      "1: Pokemon is the most common genre and a lot of it has a good amount of content in it. However, I think that most of it is pretty boring.\n",
      "\n",
      "The main game is pretty simple. You're playing as the world's first detective, tasked with a job that requires the cooperation of many people. The main story takes place after the main protagonist, Yuna, was shot and killed by a group of thugs in a bar. Yuna has been living in the past, so she doesn't understand much of it at all. This isn't a very nice game, but it's also a nice way to play through the story and a nice way to get into the game without having\n",
      "\n",
      "2: Pokemon is the most popular character among fans and fans alike. It's the main character, and has a strong connection with the story of the original games. The story is very short, but it's a nice one to read, and it's well written in its own right. The music is beautiful, as well. There are so many other characters, so much to love about the game, and it's really refreshing to learn more about a beloved game.\n",
      "\n",
      "It's great that you can find it on Steam, as I haven't found any other way to play the game. It's a nice game to have a look at, but I'd have to recommend a good one in my\n",
      "\n",
      "3: Pokemon is the next generation of the PlayStation. It is the latest installment in Sony's console family of games that are expected to be released for the PlayStation 4 and PlayStation Vita. The next big entry in the PlayStation family will be announced on July 12th, 2014. This new console is also going to be the last console to be released with the PS4.\n",
      "\n",
      "Sony has already announced the PlayStation 4 in Europe and the PS Vita in North America. In Europe it is going to be a limited release which will have some major content but most will not be exclusive. Sony will also release a few more titles in the North American region as well. The first European region that will release with the PlayStation\n",
      "\n",
      "4: Pokemon is the game where you're fighting against various heroes in different styles. It's a great series with a strong sense of humor.\n",
      "\n",
      "So I think that there are some similarities that you think you've been looking to improve on. For example, you're going to get rid of the \"heroes of all colors\" theme as well.\n",
      "\n",
      "Well, it's not just that you need to change your look, because that's where it becomes a more challenging challenge, and when you try to do that, it can be hard to adapt and keep up with how the community is going. The other thing is, I think it's a good idea for the games to have a sense\n"
     ]
    }
   ],
   "source": [
    "# Combine all approaches together\n",
    "sample_outputs = gpt2.generate(\n",
    "                              input_ids,\n",
    "                              do_sample = True, \n",
    "                              max_length = 2*MAX_LEN,  #to test how long we can generate and it be coherent\n",
    "                              #temperature = .7,\n",
    "                              top_k = 20, \n",
    "                              top_p = 0.95, \n",
    "                              num_return_sequences = 5\n",
    ")\n",
    "print(\"Output:\\n\" + 50 * '-')\n",
    "for i, sample_output in enumerate(sample_outputs):\n",
    "  print(\"\\n{}: {}\".format(i, \n",
    "                        gpt2tokenizer.decode(sample_output, \n",
    "                                             skip_special_tokens=True)))"
   ]
  },
  {
   "cell_type": "markdown",
   "metadata": {
    "id": "WEp28rkh1A3t"
   },
   "source": [
    "The above longer form text was generated by the smallest GPT-2 model, which has around 124 million parameters, Several different settings and model sizes are available for you to now play with. Remember, with great power comes great responsibility."
   ]
  }
 ],
 "metadata": {
  "accelerator": "GPU",
  "colab": {
   "name": "Text Generation with GPT2.ipynb",
   "provenance": []
  },
  "gpuClass": "standard",
  "kernelspec": {
   "display_name": "Python 3 (ipykernel)",
   "language": "python",
   "name": "python3"
  },
  "language_info": {
   "codemirror_mode": {
    "name": "ipython",
    "version": 3
   },
   "file_extension": ".py",
   "mimetype": "text/x-python",
   "name": "python",
   "nbconvert_exporter": "python",
   "pygments_lexer": "ipython3",
   "version": "3.11.5"
  },
  "widgets": {
   "application/vnd.jupyter.widget-state+json": {
    "00ff0f83ff2742d085ce9018a1c9d641": {
     "model_module": "@jupyter-widgets/controls",
     "model_module_version": "1.5.0",
     "model_name": "ProgressStyleModel",
     "state": {
      "_model_module": "@jupyter-widgets/controls",
      "_model_module_version": "1.5.0",
      "_model_name": "ProgressStyleModel",
      "_view_count": null,
      "_view_module": "@jupyter-widgets/base",
      "_view_module_version": "1.2.0",
      "_view_name": "StyleView",
      "bar_color": null,
      "description_width": ""
     }
    },
    "05c74360b33e4ae9990bb2086559168f": {
     "model_module": "@jupyter-widgets/controls",
     "model_module_version": "1.5.0",
     "model_name": "FloatProgressModel",
     "state": {
      "_dom_classes": [],
      "_model_module": "@jupyter-widgets/controls",
      "_model_module_version": "1.5.0",
      "_model_name": "FloatProgressModel",
      "_view_count": null,
      "_view_module": "@jupyter-widgets/controls",
      "_view_module_version": "1.5.0",
      "_view_name": "ProgressView",
      "bar_style": "success",
      "description": "",
      "description_tooltip": null,
      "layout": "IPY_MODEL_38d82090488540b7b3255abda6d61d5d",
      "max": 665,
      "min": 0,
      "orientation": "horizontal",
      "style": "IPY_MODEL_00ff0f83ff2742d085ce9018a1c9d641",
      "value": 665
     }
    },
    "0f8a0432aa9e4d35ab0944cbb15f2a68": {
     "model_module": "@jupyter-widgets/base",
     "model_module_version": "1.2.0",
     "model_name": "LayoutModel",
     "state": {
      "_model_module": "@jupyter-widgets/base",
      "_model_module_version": "1.2.0",
      "_model_name": "LayoutModel",
      "_view_count": null,
      "_view_module": "@jupyter-widgets/base",
      "_view_module_version": "1.2.0",
      "_view_name": "LayoutView",
      "align_content": null,
      "align_items": null,
      "align_self": null,
      "border": null,
      "bottom": null,
      "display": null,
      "flex": null,
      "flex_flow": null,
      "grid_area": null,
      "grid_auto_columns": null,
      "grid_auto_flow": null,
      "grid_auto_rows": null,
      "grid_column": null,
      "grid_gap": null,
      "grid_row": null,
      "grid_template_areas": null,
      "grid_template_columns": null,
      "grid_template_rows": null,
      "height": null,
      "justify_content": null,
      "justify_items": null,
      "left": null,
      "margin": null,
      "max_height": null,
      "max_width": null,
      "min_height": null,
      "min_width": null,
      "object_fit": null,
      "object_position": null,
      "order": null,
      "overflow": null,
      "overflow_x": null,
      "overflow_y": null,
      "padding": null,
      "right": null,
      "top": null,
      "visibility": null,
      "width": null
     }
    },
    "1f0efd5af87b496b8a7d4d115897430e": {
     "model_module": "@jupyter-widgets/base",
     "model_module_version": "1.2.0",
     "model_name": "LayoutModel",
     "state": {
      "_model_module": "@jupyter-widgets/base",
      "_model_module_version": "1.2.0",
      "_model_name": "LayoutModel",
      "_view_count": null,
      "_view_module": "@jupyter-widgets/base",
      "_view_module_version": "1.2.0",
      "_view_name": "LayoutView",
      "align_content": null,
      "align_items": null,
      "align_self": null,
      "border": null,
      "bottom": null,
      "display": null,
      "flex": null,
      "flex_flow": null,
      "grid_area": null,
      "grid_auto_columns": null,
      "grid_auto_flow": null,
      "grid_auto_rows": null,
      "grid_column": null,
      "grid_gap": null,
      "grid_row": null,
      "grid_template_areas": null,
      "grid_template_columns": null,
      "grid_template_rows": null,
      "height": null,
      "justify_content": null,
      "justify_items": null,
      "left": null,
      "margin": null,
      "max_height": null,
      "max_width": null,
      "min_height": null,
      "min_width": null,
      "object_fit": null,
      "object_position": null,
      "order": null,
      "overflow": null,
      "overflow_x": null,
      "overflow_y": null,
      "padding": null,
      "right": null,
      "top": null,
      "visibility": null,
      "width": null
     }
    },
    "28f1dd92dd7549d0a8d4dbcec0bcb15d": {
     "model_module": "@jupyter-widgets/base",
     "model_module_version": "1.2.0",
     "model_name": "LayoutModel",
     "state": {
      "_model_module": "@jupyter-widgets/base",
      "_model_module_version": "1.2.0",
      "_model_name": "LayoutModel",
      "_view_count": null,
      "_view_module": "@jupyter-widgets/base",
      "_view_module_version": "1.2.0",
      "_view_name": "LayoutView",
      "align_content": null,
      "align_items": null,
      "align_self": null,
      "border": null,
      "bottom": null,
      "display": null,
      "flex": null,
      "flex_flow": null,
      "grid_area": null,
      "grid_auto_columns": null,
      "grid_auto_flow": null,
      "grid_auto_rows": null,
      "grid_column": null,
      "grid_gap": null,
      "grid_row": null,
      "grid_template_areas": null,
      "grid_template_columns": null,
      "grid_template_rows": null,
      "height": null,
      "justify_content": null,
      "justify_items": null,
      "left": null,
      "margin": null,
      "max_height": null,
      "max_width": null,
      "min_height": null,
      "min_width": null,
      "object_fit": null,
      "object_position": null,
      "order": null,
      "overflow": null,
      "overflow_x": null,
      "overflow_y": null,
      "padding": null,
      "right": null,
      "top": null,
      "visibility": null,
      "width": null
     }
    },
    "3443b7bbfb6245cd9f7369d7545a68d8": {
     "model_module": "@jupyter-widgets/controls",
     "model_module_version": "1.5.0",
     "model_name": "DescriptionStyleModel",
     "state": {
      "_model_module": "@jupyter-widgets/controls",
      "_model_module_version": "1.5.0",
      "_model_name": "DescriptionStyleModel",
      "_view_count": null,
      "_view_module": "@jupyter-widgets/base",
      "_view_module_version": "1.2.0",
      "_view_name": "StyleView",
      "description_width": ""
     }
    },
    "34df91add83644d3a41f362886755403": {
     "model_module": "@jupyter-widgets/base",
     "model_module_version": "1.2.0",
     "model_name": "LayoutModel",
     "state": {
      "_model_module": "@jupyter-widgets/base",
      "_model_module_version": "1.2.0",
      "_model_name": "LayoutModel",
      "_view_count": null,
      "_view_module": "@jupyter-widgets/base",
      "_view_module_version": "1.2.0",
      "_view_name": "LayoutView",
      "align_content": null,
      "align_items": null,
      "align_self": null,
      "border": null,
      "bottom": null,
      "display": null,
      "flex": null,
      "flex_flow": null,
      "grid_area": null,
      "grid_auto_columns": null,
      "grid_auto_flow": null,
      "grid_auto_rows": null,
      "grid_column": null,
      "grid_gap": null,
      "grid_row": null,
      "grid_template_areas": null,
      "grid_template_columns": null,
      "grid_template_rows": null,
      "height": null,
      "justify_content": null,
      "justify_items": null,
      "left": null,
      "margin": null,
      "max_height": null,
      "max_width": null,
      "min_height": null,
      "min_width": null,
      "object_fit": null,
      "object_position": null,
      "order": null,
      "overflow": null,
      "overflow_x": null,
      "overflow_y": null,
      "padding": null,
      "right": null,
      "top": null,
      "visibility": null,
      "width": null
     }
    },
    "38d82090488540b7b3255abda6d61d5d": {
     "model_module": "@jupyter-widgets/base",
     "model_module_version": "1.2.0",
     "model_name": "LayoutModel",
     "state": {
      "_model_module": "@jupyter-widgets/base",
      "_model_module_version": "1.2.0",
      "_model_name": "LayoutModel",
      "_view_count": null,
      "_view_module": "@jupyter-widgets/base",
      "_view_module_version": "1.2.0",
      "_view_name": "LayoutView",
      "align_content": null,
      "align_items": null,
      "align_self": null,
      "border": null,
      "bottom": null,
      "display": null,
      "flex": null,
      "flex_flow": null,
      "grid_area": null,
      "grid_auto_columns": null,
      "grid_auto_flow": null,
      "grid_auto_rows": null,
      "grid_column": null,
      "grid_gap": null,
      "grid_row": null,
      "grid_template_areas": null,
      "grid_template_columns": null,
      "grid_template_rows": null,
      "height": null,
      "justify_content": null,
      "justify_items": null,
      "left": null,
      "margin": null,
      "max_height": null,
      "max_width": null,
      "min_height": null,
      "min_width": null,
      "object_fit": null,
      "object_position": null,
      "order": null,
      "overflow": null,
      "overflow_x": null,
      "overflow_y": null,
      "padding": null,
      "right": null,
      "top": null,
      "visibility": null,
      "width": null
     }
    },
    "4210e5c968fa4aa3aac0e5ec27e13ab8": {
     "model_module": "@jupyter-widgets/base",
     "model_module_version": "1.2.0",
     "model_name": "LayoutModel",
     "state": {
      "_model_module": "@jupyter-widgets/base",
      "_model_module_version": "1.2.0",
      "_model_name": "LayoutModel",
      "_view_count": null,
      "_view_module": "@jupyter-widgets/base",
      "_view_module_version": "1.2.0",
      "_view_name": "LayoutView",
      "align_content": null,
      "align_items": null,
      "align_self": null,
      "border": null,
      "bottom": null,
      "display": null,
      "flex": null,
      "flex_flow": null,
      "grid_area": null,
      "grid_auto_columns": null,
      "grid_auto_flow": null,
      "grid_auto_rows": null,
      "grid_column": null,
      "grid_gap": null,
      "grid_row": null,
      "grid_template_areas": null,
      "grid_template_columns": null,
      "grid_template_rows": null,
      "height": null,
      "justify_content": null,
      "justify_items": null,
      "left": null,
      "margin": null,
      "max_height": null,
      "max_width": null,
      "min_height": null,
      "min_width": null,
      "object_fit": null,
      "object_position": null,
      "order": null,
      "overflow": null,
      "overflow_x": null,
      "overflow_y": null,
      "padding": null,
      "right": null,
      "top": null,
      "visibility": null,
      "width": null
     }
    },
    "42d67596f00c462d82f6c67401d706bc": {
     "model_module": "@jupyter-widgets/controls",
     "model_module_version": "1.5.0",
     "model_name": "HTMLModel",
     "state": {
      "_dom_classes": [],
      "_model_module": "@jupyter-widgets/controls",
      "_model_module_version": "1.5.0",
      "_model_name": "HTMLModel",
      "_view_count": null,
      "_view_module": "@jupyter-widgets/controls",
      "_view_module_version": "1.5.0",
      "_view_name": "HTMLView",
      "description": "",
      "description_tooltip": null,
      "layout": "IPY_MODEL_43964bd07f194dd898cdf34795da63b3",
      "placeholder": "​",
      "style": "IPY_MODEL_3443b7bbfb6245cd9f7369d7545a68d8",
      "value": "Downloading: 100%"
     }
    },
    "42e85bc721844589820f78c44d9be477": {
     "model_module": "@jupyter-widgets/controls",
     "model_module_version": "1.5.0",
     "model_name": "DescriptionStyleModel",
     "state": {
      "_model_module": "@jupyter-widgets/controls",
      "_model_module_version": "1.5.0",
      "_model_name": "DescriptionStyleModel",
      "_view_count": null,
      "_view_module": "@jupyter-widgets/base",
      "_view_module_version": "1.2.0",
      "_view_name": "StyleView",
      "description_width": ""
     }
    },
    "43964bd07f194dd898cdf34795da63b3": {
     "model_module": "@jupyter-widgets/base",
     "model_module_version": "1.2.0",
     "model_name": "LayoutModel",
     "state": {
      "_model_module": "@jupyter-widgets/base",
      "_model_module_version": "1.2.0",
      "_model_name": "LayoutModel",
      "_view_count": null,
      "_view_module": "@jupyter-widgets/base",
      "_view_module_version": "1.2.0",
      "_view_name": "LayoutView",
      "align_content": null,
      "align_items": null,
      "align_self": null,
      "border": null,
      "bottom": null,
      "display": null,
      "flex": null,
      "flex_flow": null,
      "grid_area": null,
      "grid_auto_columns": null,
      "grid_auto_flow": null,
      "grid_auto_rows": null,
      "grid_column": null,
      "grid_gap": null,
      "grid_row": null,
      "grid_template_areas": null,
      "grid_template_columns": null,
      "grid_template_rows": null,
      "height": null,
      "justify_content": null,
      "justify_items": null,
      "left": null,
      "margin": null,
      "max_height": null,
      "max_width": null,
      "min_height": null,
      "min_width": null,
      "object_fit": null,
      "object_position": null,
      "order": null,
      "overflow": null,
      "overflow_x": null,
      "overflow_y": null,
      "padding": null,
      "right": null,
      "top": null,
      "visibility": null,
      "width": null
     }
    },
    "4644b42f232d45a2ab87fc8e013a745d": {
     "model_module": "@jupyter-widgets/controls",
     "model_module_version": "1.5.0",
     "model_name": "DescriptionStyleModel",
     "state": {
      "_model_module": "@jupyter-widgets/controls",
      "_model_module_version": "1.5.0",
      "_model_name": "DescriptionStyleModel",
      "_view_count": null,
      "_view_module": "@jupyter-widgets/base",
      "_view_module_version": "1.2.0",
      "_view_name": "StyleView",
      "description_width": ""
     }
    },
    "46ab0801eb0c48e6be2282eaec2c3839": {
     "model_module": "@jupyter-widgets/base",
     "model_module_version": "1.2.0",
     "model_name": "LayoutModel",
     "state": {
      "_model_module": "@jupyter-widgets/base",
      "_model_module_version": "1.2.0",
      "_model_name": "LayoutModel",
      "_view_count": null,
      "_view_module": "@jupyter-widgets/base",
      "_view_module_version": "1.2.0",
      "_view_name": "LayoutView",
      "align_content": null,
      "align_items": null,
      "align_self": null,
      "border": null,
      "bottom": null,
      "display": null,
      "flex": null,
      "flex_flow": null,
      "grid_area": null,
      "grid_auto_columns": null,
      "grid_auto_flow": null,
      "grid_auto_rows": null,
      "grid_column": null,
      "grid_gap": null,
      "grid_row": null,
      "grid_template_areas": null,
      "grid_template_columns": null,
      "grid_template_rows": null,
      "height": null,
      "justify_content": null,
      "justify_items": null,
      "left": null,
      "margin": null,
      "max_height": null,
      "max_width": null,
      "min_height": null,
      "min_width": null,
      "object_fit": null,
      "object_position": null,
      "order": null,
      "overflow": null,
      "overflow_x": null,
      "overflow_y": null,
      "padding": null,
      "right": null,
      "top": null,
      "visibility": null,
      "width": null
     }
    },
    "4825bd4fe9c240c483f0f7f02b4459bd": {
     "model_module": "@jupyter-widgets/base",
     "model_module_version": "1.2.0",
     "model_name": "LayoutModel",
     "state": {
      "_model_module": "@jupyter-widgets/base",
      "_model_module_version": "1.2.0",
      "_model_name": "LayoutModel",
      "_view_count": null,
      "_view_module": "@jupyter-widgets/base",
      "_view_module_version": "1.2.0",
      "_view_name": "LayoutView",
      "align_content": null,
      "align_items": null,
      "align_self": null,
      "border": null,
      "bottom": null,
      "display": null,
      "flex": null,
      "flex_flow": null,
      "grid_area": null,
      "grid_auto_columns": null,
      "grid_auto_flow": null,
      "grid_auto_rows": null,
      "grid_column": null,
      "grid_gap": null,
      "grid_row": null,
      "grid_template_areas": null,
      "grid_template_columns": null,
      "grid_template_rows": null,
      "height": null,
      "justify_content": null,
      "justify_items": null,
      "left": null,
      "margin": null,
      "max_height": null,
      "max_width": null,
      "min_height": null,
      "min_width": null,
      "object_fit": null,
      "object_position": null,
      "order": null,
      "overflow": null,
      "overflow_x": null,
      "overflow_y": null,
      "padding": null,
      "right": null,
      "top": null,
      "visibility": null,
      "width": null
     }
    },
    "4a0772120b144208a7a3df24587cdff4": {
     "model_module": "@jupyter-widgets/controls",
     "model_module_version": "1.5.0",
     "model_name": "DescriptionStyleModel",
     "state": {
      "_model_module": "@jupyter-widgets/controls",
      "_model_module_version": "1.5.0",
      "_model_name": "DescriptionStyleModel",
      "_view_count": null,
      "_view_module": "@jupyter-widgets/base",
      "_view_module_version": "1.2.0",
      "_view_name": "StyleView",
      "description_width": ""
     }
    },
    "58ea9bd534ac49b79708d2a0fe953e4d": {
     "model_module": "@jupyter-widgets/controls",
     "model_module_version": "1.5.0",
     "model_name": "DescriptionStyleModel",
     "state": {
      "_model_module": "@jupyter-widgets/controls",
      "_model_module_version": "1.5.0",
      "_model_name": "DescriptionStyleModel",
      "_view_count": null,
      "_view_module": "@jupyter-widgets/base",
      "_view_module_version": "1.2.0",
      "_view_name": "StyleView",
      "description_width": ""
     }
    },
    "5b5f2bba06b54d0eb2d14a2fc9e6301c": {
     "model_module": "@jupyter-widgets/controls",
     "model_module_version": "1.5.0",
     "model_name": "HBoxModel",
     "state": {
      "_dom_classes": [],
      "_model_module": "@jupyter-widgets/controls",
      "_model_module_version": "1.5.0",
      "_model_name": "HBoxModel",
      "_view_count": null,
      "_view_module": "@jupyter-widgets/controls",
      "_view_module_version": "1.5.0",
      "_view_name": "HBoxView",
      "box_style": "",
      "children": [
       "IPY_MODEL_c4607c7e16104e0089e9c4357ae19a82",
       "IPY_MODEL_7bea256ca898498e8c6150809f323615",
       "IPY_MODEL_b20ff706d3034d5186506de3ad8e3d13"
      ],
      "layout": "IPY_MODEL_e955494a177748ffbf567d7aafbdc12e"
     }
    },
    "6bf303cf03dd4710b394cb4d4bd94461": {
     "model_module": "@jupyter-widgets/controls",
     "model_module_version": "1.5.0",
     "model_name": "ProgressStyleModel",
     "state": {
      "_model_module": "@jupyter-widgets/controls",
      "_model_module_version": "1.5.0",
      "_model_name": "ProgressStyleModel",
      "_view_count": null,
      "_view_module": "@jupyter-widgets/base",
      "_view_module_version": "1.2.0",
      "_view_name": "StyleView",
      "bar_color": null,
      "description_width": ""
     }
    },
    "7bea256ca898498e8c6150809f323615": {
     "model_module": "@jupyter-widgets/controls",
     "model_module_version": "1.5.0",
     "model_name": "FloatProgressModel",
     "state": {
      "_dom_classes": [],
      "_model_module": "@jupyter-widgets/controls",
      "_model_module_version": "1.5.0",
      "_model_name": "FloatProgressModel",
      "_view_count": null,
      "_view_module": "@jupyter-widgets/controls",
      "_view_module_version": "1.5.0",
      "_view_name": "ProgressView",
      "bar_style": "success",
      "description": "",
      "description_tooltip": null,
      "layout": "IPY_MODEL_94863e3afc5b436f8f80d3e0baca4644",
      "max": 1042301,
      "min": 0,
      "orientation": "horizontal",
      "style": "IPY_MODEL_6bf303cf03dd4710b394cb4d4bd94461",
      "value": 1042301
     }
    },
    "7e2253f18c1f492396d21c79e88abda6": {
     "model_module": "@jupyter-widgets/base",
     "model_module_version": "1.2.0",
     "model_name": "LayoutModel",
     "state": {
      "_model_module": "@jupyter-widgets/base",
      "_model_module_version": "1.2.0",
      "_model_name": "LayoutModel",
      "_view_count": null,
      "_view_module": "@jupyter-widgets/base",
      "_view_module_version": "1.2.0",
      "_view_name": "LayoutView",
      "align_content": null,
      "align_items": null,
      "align_self": null,
      "border": null,
      "bottom": null,
      "display": null,
      "flex": null,
      "flex_flow": null,
      "grid_area": null,
      "grid_auto_columns": null,
      "grid_auto_flow": null,
      "grid_auto_rows": null,
      "grid_column": null,
      "grid_gap": null,
      "grid_row": null,
      "grid_template_areas": null,
      "grid_template_columns": null,
      "grid_template_rows": null,
      "height": null,
      "justify_content": null,
      "justify_items": null,
      "left": null,
      "margin": null,
      "max_height": null,
      "max_width": null,
      "min_height": null,
      "min_width": null,
      "object_fit": null,
      "object_position": null,
      "order": null,
      "overflow": null,
      "overflow_x": null,
      "overflow_y": null,
      "padding": null,
      "right": null,
      "top": null,
      "visibility": null,
      "width": null
     }
    },
    "88095c6cf41e481ca529c606e3e84a1a": {
     "model_module": "@jupyter-widgets/controls",
     "model_module_version": "1.5.0",
     "model_name": "HBoxModel",
     "state": {
      "_dom_classes": [],
      "_model_module": "@jupyter-widgets/controls",
      "_model_module_version": "1.5.0",
      "_model_name": "HBoxModel",
      "_view_count": null,
      "_view_module": "@jupyter-widgets/controls",
      "_view_module_version": "1.5.0",
      "_view_name": "HBoxView",
      "box_style": "",
      "children": [
       "IPY_MODEL_42d67596f00c462d82f6c67401d706bc",
       "IPY_MODEL_05c74360b33e4ae9990bb2086559168f",
       "IPY_MODEL_94b7a52132244274b1c90aa2f9d26d09"
      ],
      "layout": "IPY_MODEL_7e2253f18c1f492396d21c79e88abda6"
     }
    },
    "895b674a041b4701b5f393174629e11e": {
     "model_module": "@jupyter-widgets/controls",
     "model_module_version": "1.5.0",
     "model_name": "HBoxModel",
     "state": {
      "_dom_classes": [],
      "_model_module": "@jupyter-widgets/controls",
      "_model_module_version": "1.5.0",
      "_model_name": "HBoxModel",
      "_view_count": null,
      "_view_module": "@jupyter-widgets/controls",
      "_view_module_version": "1.5.0",
      "_view_name": "HBoxView",
      "box_style": "",
      "children": [
       "IPY_MODEL_a44735ebb8724782b18bc82438726a69",
       "IPY_MODEL_d0e5decb2f8641ba9a63a6ad66e48387",
       "IPY_MODEL_d652ce76358c460d82775697ecd3b4d3"
      ],
      "layout": "IPY_MODEL_4210e5c968fa4aa3aac0e5ec27e13ab8"
     }
    },
    "94863e3afc5b436f8f80d3e0baca4644": {
     "model_module": "@jupyter-widgets/base",
     "model_module_version": "1.2.0",
     "model_name": "LayoutModel",
     "state": {
      "_model_module": "@jupyter-widgets/base",
      "_model_module_version": "1.2.0",
      "_model_name": "LayoutModel",
      "_view_count": null,
      "_view_module": "@jupyter-widgets/base",
      "_view_module_version": "1.2.0",
      "_view_name": "LayoutView",
      "align_content": null,
      "align_items": null,
      "align_self": null,
      "border": null,
      "bottom": null,
      "display": null,
      "flex": null,
      "flex_flow": null,
      "grid_area": null,
      "grid_auto_columns": null,
      "grid_auto_flow": null,
      "grid_auto_rows": null,
      "grid_column": null,
      "grid_gap": null,
      "grid_row": null,
      "grid_template_areas": null,
      "grid_template_columns": null,
      "grid_template_rows": null,
      "height": null,
      "justify_content": null,
      "justify_items": null,
      "left": null,
      "margin": null,
      "max_height": null,
      "max_width": null,
      "min_height": null,
      "min_width": null,
      "object_fit": null,
      "object_position": null,
      "order": null,
      "overflow": null,
      "overflow_x": null,
      "overflow_y": null,
      "padding": null,
      "right": null,
      "top": null,
      "visibility": null,
      "width": null
     }
    },
    "94b7a52132244274b1c90aa2f9d26d09": {
     "model_module": "@jupyter-widgets/controls",
     "model_module_version": "1.5.0",
     "model_name": "HTMLModel",
     "state": {
      "_dom_classes": [],
      "_model_module": "@jupyter-widgets/controls",
      "_model_module_version": "1.5.0",
      "_model_name": "HTMLModel",
      "_view_count": null,
      "_view_module": "@jupyter-widgets/controls",
      "_view_module_version": "1.5.0",
      "_view_name": "HTMLView",
      "description": "",
      "description_tooltip": null,
      "layout": "IPY_MODEL_34df91add83644d3a41f362886755403",
      "placeholder": "​",
      "style": "IPY_MODEL_4644b42f232d45a2ab87fc8e013a745d",
      "value": " 665/665 [00:00&lt;00:00, 19.3kB/s]"
     }
    },
    "a29d3998eecd4dcd84f56b67cd30d532": {
     "model_module": "@jupyter-widgets/controls",
     "model_module_version": "1.5.0",
     "model_name": "DescriptionStyleModel",
     "state": {
      "_model_module": "@jupyter-widgets/controls",
      "_model_module_version": "1.5.0",
      "_model_name": "DescriptionStyleModel",
      "_view_count": null,
      "_view_module": "@jupyter-widgets/base",
      "_view_module_version": "1.2.0",
      "_view_name": "StyleView",
      "description_width": ""
     }
    },
    "a44735ebb8724782b18bc82438726a69": {
     "model_module": "@jupyter-widgets/controls",
     "model_module_version": "1.5.0",
     "model_name": "HTMLModel",
     "state": {
      "_dom_classes": [],
      "_model_module": "@jupyter-widgets/controls",
      "_model_module_version": "1.5.0",
      "_model_name": "HTMLModel",
      "_view_count": null,
      "_view_module": "@jupyter-widgets/controls",
      "_view_module_version": "1.5.0",
      "_view_name": "HTMLView",
      "description": "",
      "description_tooltip": null,
      "layout": "IPY_MODEL_f378982a58394e4a90f063e39338b29f",
      "placeholder": "​",
      "style": "IPY_MODEL_a29d3998eecd4dcd84f56b67cd30d532",
      "value": "Downloading: 100%"
     }
    },
    "b20ff706d3034d5186506de3ad8e3d13": {
     "model_module": "@jupyter-widgets/controls",
     "model_module_version": "1.5.0",
     "model_name": "HTMLModel",
     "state": {
      "_dom_classes": [],
      "_model_module": "@jupyter-widgets/controls",
      "_model_module_version": "1.5.0",
      "_model_name": "HTMLModel",
      "_view_count": null,
      "_view_module": "@jupyter-widgets/controls",
      "_view_module_version": "1.5.0",
      "_view_name": "HTMLView",
      "description": "",
      "description_tooltip": null,
      "layout": "IPY_MODEL_b351478049694b3992e50365529f324f",
      "placeholder": "​",
      "style": "IPY_MODEL_42e85bc721844589820f78c44d9be477",
      "value": " 0.99M/0.99M [00:01&lt;00:00, 1.06MB/s]"
     }
    },
    "b351478049694b3992e50365529f324f": {
     "model_module": "@jupyter-widgets/base",
     "model_module_version": "1.2.0",
     "model_name": "LayoutModel",
     "state": {
      "_model_module": "@jupyter-widgets/base",
      "_model_module_version": "1.2.0",
      "_model_name": "LayoutModel",
      "_view_count": null,
      "_view_module": "@jupyter-widgets/base",
      "_view_module_version": "1.2.0",
      "_view_name": "LayoutView",
      "align_content": null,
      "align_items": null,
      "align_self": null,
      "border": null,
      "bottom": null,
      "display": null,
      "flex": null,
      "flex_flow": null,
      "grid_area": null,
      "grid_auto_columns": null,
      "grid_auto_flow": null,
      "grid_auto_rows": null,
      "grid_column": null,
      "grid_gap": null,
      "grid_row": null,
      "grid_template_areas": null,
      "grid_template_columns": null,
      "grid_template_rows": null,
      "height": null,
      "justify_content": null,
      "justify_items": null,
      "left": null,
      "margin": null,
      "max_height": null,
      "max_width": null,
      "min_height": null,
      "min_width": null,
      "object_fit": null,
      "object_position": null,
      "order": null,
      "overflow": null,
      "overflow_x": null,
      "overflow_y": null,
      "padding": null,
      "right": null,
      "top": null,
      "visibility": null,
      "width": null
     }
    },
    "bc83a9fdde564d659437805e723c4f31": {
     "model_module": "@jupyter-widgets/controls",
     "model_module_version": "1.5.0",
     "model_name": "HTMLModel",
     "state": {
      "_dom_classes": [],
      "_model_module": "@jupyter-widgets/controls",
      "_model_module_version": "1.5.0",
      "_model_name": "HTMLModel",
      "_view_count": null,
      "_view_module": "@jupyter-widgets/controls",
      "_view_module_version": "1.5.0",
      "_view_name": "HTMLView",
      "description": "",
      "description_tooltip": null,
      "layout": "IPY_MODEL_1f0efd5af87b496b8a7d4d115897430e",
      "placeholder": "​",
      "style": "IPY_MODEL_4a0772120b144208a7a3df24587cdff4",
      "value": " 475M/475M [00:09&lt;00:00, 48.6MB/s]"
     }
    },
    "c4607c7e16104e0089e9c4357ae19a82": {
     "model_module": "@jupyter-widgets/controls",
     "model_module_version": "1.5.0",
     "model_name": "HTMLModel",
     "state": {
      "_dom_classes": [],
      "_model_module": "@jupyter-widgets/controls",
      "_model_module_version": "1.5.0",
      "_model_name": "HTMLModel",
      "_view_count": null,
      "_view_module": "@jupyter-widgets/controls",
      "_view_module_version": "1.5.0",
      "_view_name": "HTMLView",
      "description": "",
      "description_tooltip": null,
      "layout": "IPY_MODEL_46ab0801eb0c48e6be2282eaec2c3839",
      "placeholder": "​",
      "style": "IPY_MODEL_d6693524122e4c50b2e5e2ddff1414fd",
      "value": "Downloading: 100%"
     }
    },
    "cec366b7fb6d4462b769910ddf5c8e73": {
     "model_module": "@jupyter-widgets/controls",
     "model_module_version": "1.5.0",
     "model_name": "FloatProgressModel",
     "state": {
      "_dom_classes": [],
      "_model_module": "@jupyter-widgets/controls",
      "_model_module_version": "1.5.0",
      "_model_name": "FloatProgressModel",
      "_view_count": null,
      "_view_module": "@jupyter-widgets/controls",
      "_view_module_version": "1.5.0",
      "_view_name": "ProgressView",
      "bar_style": "success",
      "description": "",
      "description_tooltip": null,
      "layout": "IPY_MODEL_d6ba43fd8b1c4c55a37d5a8bd828d31f",
      "max": 497933648,
      "min": 0,
      "orientation": "horizontal",
      "style": "IPY_MODEL_f47c85a882434213adc942b9627bdfc6",
      "value": 497933648
     }
    },
    "cf60afb1ca2b416c958287bf59e0fb4e": {
     "model_module": "@jupyter-widgets/base",
     "model_module_version": "1.2.0",
     "model_name": "LayoutModel",
     "state": {
      "_model_module": "@jupyter-widgets/base",
      "_model_module_version": "1.2.0",
      "_model_name": "LayoutModel",
      "_view_count": null,
      "_view_module": "@jupyter-widgets/base",
      "_view_module_version": "1.2.0",
      "_view_name": "LayoutView",
      "align_content": null,
      "align_items": null,
      "align_self": null,
      "border": null,
      "bottom": null,
      "display": null,
      "flex": null,
      "flex_flow": null,
      "grid_area": null,
      "grid_auto_columns": null,
      "grid_auto_flow": null,
      "grid_auto_rows": null,
      "grid_column": null,
      "grid_gap": null,
      "grid_row": null,
      "grid_template_areas": null,
      "grid_template_columns": null,
      "grid_template_rows": null,
      "height": null,
      "justify_content": null,
      "justify_items": null,
      "left": null,
      "margin": null,
      "max_height": null,
      "max_width": null,
      "min_height": null,
      "min_width": null,
      "object_fit": null,
      "object_position": null,
      "order": null,
      "overflow": null,
      "overflow_x": null,
      "overflow_y": null,
      "padding": null,
      "right": null,
      "top": null,
      "visibility": null,
      "width": null
     }
    },
    "d0e5decb2f8641ba9a63a6ad66e48387": {
     "model_module": "@jupyter-widgets/controls",
     "model_module_version": "1.5.0",
     "model_name": "FloatProgressModel",
     "state": {
      "_dom_classes": [],
      "_model_module": "@jupyter-widgets/controls",
      "_model_module_version": "1.5.0",
      "_model_name": "FloatProgressModel",
      "_view_count": null,
      "_view_module": "@jupyter-widgets/controls",
      "_view_module_version": "1.5.0",
      "_view_name": "ProgressView",
      "bar_style": "success",
      "description": "",
      "description_tooltip": null,
      "layout": "IPY_MODEL_4825bd4fe9c240c483f0f7f02b4459bd",
      "max": 456318,
      "min": 0,
      "orientation": "horizontal",
      "style": "IPY_MODEL_fcc3eb2a16834055afdf804ffe6b1738",
      "value": 456318
     }
    },
    "d652ce76358c460d82775697ecd3b4d3": {
     "model_module": "@jupyter-widgets/controls",
     "model_module_version": "1.5.0",
     "model_name": "HTMLModel",
     "state": {
      "_dom_classes": [],
      "_model_module": "@jupyter-widgets/controls",
      "_model_module_version": "1.5.0",
      "_model_name": "HTMLModel",
      "_view_count": null,
      "_view_module": "@jupyter-widgets/controls",
      "_view_module_version": "1.5.0",
      "_view_name": "HTMLView",
      "description": "",
      "description_tooltip": null,
      "layout": "IPY_MODEL_cf60afb1ca2b416c958287bf59e0fb4e",
      "placeholder": "​",
      "style": "IPY_MODEL_da9f4de3db444d8393d93c03a9daaa9c",
      "value": " 446k/446k [00:00&lt;00:00, 345kB/s]"
     }
    },
    "d6693524122e4c50b2e5e2ddff1414fd": {
     "model_module": "@jupyter-widgets/controls",
     "model_module_version": "1.5.0",
     "model_name": "DescriptionStyleModel",
     "state": {
      "_model_module": "@jupyter-widgets/controls",
      "_model_module_version": "1.5.0",
      "_model_name": "DescriptionStyleModel",
      "_view_count": null,
      "_view_module": "@jupyter-widgets/base",
      "_view_module_version": "1.2.0",
      "_view_name": "StyleView",
      "description_width": ""
     }
    },
    "d6ba43fd8b1c4c55a37d5a8bd828d31f": {
     "model_module": "@jupyter-widgets/base",
     "model_module_version": "1.2.0",
     "model_name": "LayoutModel",
     "state": {
      "_model_module": "@jupyter-widgets/base",
      "_model_module_version": "1.2.0",
      "_model_name": "LayoutModel",
      "_view_count": null,
      "_view_module": "@jupyter-widgets/base",
      "_view_module_version": "1.2.0",
      "_view_name": "LayoutView",
      "align_content": null,
      "align_items": null,
      "align_self": null,
      "border": null,
      "bottom": null,
      "display": null,
      "flex": null,
      "flex_flow": null,
      "grid_area": null,
      "grid_auto_columns": null,
      "grid_auto_flow": null,
      "grid_auto_rows": null,
      "grid_column": null,
      "grid_gap": null,
      "grid_row": null,
      "grid_template_areas": null,
      "grid_template_columns": null,
      "grid_template_rows": null,
      "height": null,
      "justify_content": null,
      "justify_items": null,
      "left": null,
      "margin": null,
      "max_height": null,
      "max_width": null,
      "min_height": null,
      "min_width": null,
      "object_fit": null,
      "object_position": null,
      "order": null,
      "overflow": null,
      "overflow_x": null,
      "overflow_y": null,
      "padding": null,
      "right": null,
      "top": null,
      "visibility": null,
      "width": null
     }
    },
    "da9f4de3db444d8393d93c03a9daaa9c": {
     "model_module": "@jupyter-widgets/controls",
     "model_module_version": "1.5.0",
     "model_name": "DescriptionStyleModel",
     "state": {
      "_model_module": "@jupyter-widgets/controls",
      "_model_module_version": "1.5.0",
      "_model_name": "DescriptionStyleModel",
      "_view_count": null,
      "_view_module": "@jupyter-widgets/base",
      "_view_module_version": "1.2.0",
      "_view_name": "StyleView",
      "description_width": ""
     }
    },
    "e955494a177748ffbf567d7aafbdc12e": {
     "model_module": "@jupyter-widgets/base",
     "model_module_version": "1.2.0",
     "model_name": "LayoutModel",
     "state": {
      "_model_module": "@jupyter-widgets/base",
      "_model_module_version": "1.2.0",
      "_model_name": "LayoutModel",
      "_view_count": null,
      "_view_module": "@jupyter-widgets/base",
      "_view_module_version": "1.2.0",
      "_view_name": "LayoutView",
      "align_content": null,
      "align_items": null,
      "align_self": null,
      "border": null,
      "bottom": null,
      "display": null,
      "flex": null,
      "flex_flow": null,
      "grid_area": null,
      "grid_auto_columns": null,
      "grid_auto_flow": null,
      "grid_auto_rows": null,
      "grid_column": null,
      "grid_gap": null,
      "grid_row": null,
      "grid_template_areas": null,
      "grid_template_columns": null,
      "grid_template_rows": null,
      "height": null,
      "justify_content": null,
      "justify_items": null,
      "left": null,
      "margin": null,
      "max_height": null,
      "max_width": null,
      "min_height": null,
      "min_width": null,
      "object_fit": null,
      "object_position": null,
      "order": null,
      "overflow": null,
      "overflow_x": null,
      "overflow_y": null,
      "padding": null,
      "right": null,
      "top": null,
      "visibility": null,
      "width": null
     }
    },
    "ed20b4ea89a14e44b3474d77bbadc8c4": {
     "model_module": "@jupyter-widgets/controls",
     "model_module_version": "1.5.0",
     "model_name": "HBoxModel",
     "state": {
      "_dom_classes": [],
      "_model_module": "@jupyter-widgets/controls",
      "_model_module_version": "1.5.0",
      "_model_name": "HBoxModel",
      "_view_count": null,
      "_view_module": "@jupyter-widgets/controls",
      "_view_module_version": "1.5.0",
      "_view_name": "HBoxView",
      "box_style": "",
      "children": [
       "IPY_MODEL_f012793a8aac40a7b9ef562fdb440c6c",
       "IPY_MODEL_cec366b7fb6d4462b769910ddf5c8e73",
       "IPY_MODEL_bc83a9fdde564d659437805e723c4f31"
      ],
      "layout": "IPY_MODEL_28f1dd92dd7549d0a8d4dbcec0bcb15d"
     }
    },
    "f012793a8aac40a7b9ef562fdb440c6c": {
     "model_module": "@jupyter-widgets/controls",
     "model_module_version": "1.5.0",
     "model_name": "HTMLModel",
     "state": {
      "_dom_classes": [],
      "_model_module": "@jupyter-widgets/controls",
      "_model_module_version": "1.5.0",
      "_model_name": "HTMLModel",
      "_view_count": null,
      "_view_module": "@jupyter-widgets/controls",
      "_view_module_version": "1.5.0",
      "_view_name": "HTMLView",
      "description": "",
      "description_tooltip": null,
      "layout": "IPY_MODEL_0f8a0432aa9e4d35ab0944cbb15f2a68",
      "placeholder": "​",
      "style": "IPY_MODEL_58ea9bd534ac49b79708d2a0fe953e4d",
      "value": "Downloading: 100%"
     }
    },
    "f378982a58394e4a90f063e39338b29f": {
     "model_module": "@jupyter-widgets/base",
     "model_module_version": "1.2.0",
     "model_name": "LayoutModel",
     "state": {
      "_model_module": "@jupyter-widgets/base",
      "_model_module_version": "1.2.0",
      "_model_name": "LayoutModel",
      "_view_count": null,
      "_view_module": "@jupyter-widgets/base",
      "_view_module_version": "1.2.0",
      "_view_name": "LayoutView",
      "align_content": null,
      "align_items": null,
      "align_self": null,
      "border": null,
      "bottom": null,
      "display": null,
      "flex": null,
      "flex_flow": null,
      "grid_area": null,
      "grid_auto_columns": null,
      "grid_auto_flow": null,
      "grid_auto_rows": null,
      "grid_column": null,
      "grid_gap": null,
      "grid_row": null,
      "grid_template_areas": null,
      "grid_template_columns": null,
      "grid_template_rows": null,
      "height": null,
      "justify_content": null,
      "justify_items": null,
      "left": null,
      "margin": null,
      "max_height": null,
      "max_width": null,
      "min_height": null,
      "min_width": null,
      "object_fit": null,
      "object_position": null,
      "order": null,
      "overflow": null,
      "overflow_x": null,
      "overflow_y": null,
      "padding": null,
      "right": null,
      "top": null,
      "visibility": null,
      "width": null
     }
    },
    "f47c85a882434213adc942b9627bdfc6": {
     "model_module": "@jupyter-widgets/controls",
     "model_module_version": "1.5.0",
     "model_name": "ProgressStyleModel",
     "state": {
      "_model_module": "@jupyter-widgets/controls",
      "_model_module_version": "1.5.0",
      "_model_name": "ProgressStyleModel",
      "_view_count": null,
      "_view_module": "@jupyter-widgets/base",
      "_view_module_version": "1.2.0",
      "_view_name": "StyleView",
      "bar_color": null,
      "description_width": ""
     }
    },
    "fcc3eb2a16834055afdf804ffe6b1738": {
     "model_module": "@jupyter-widgets/controls",
     "model_module_version": "1.5.0",
     "model_name": "ProgressStyleModel",
     "state": {
      "_model_module": "@jupyter-widgets/controls",
      "_model_module_version": "1.5.0",
      "_model_name": "ProgressStyleModel",
      "_view_count": null,
      "_view_module": "@jupyter-widgets/base",
      "_view_module_version": "1.2.0",
      "_view_name": "StyleView",
      "bar_color": null,
      "description_width": ""
     }
    }
   }
  }
 },
 "nbformat": 4,
 "nbformat_minor": 1
}
